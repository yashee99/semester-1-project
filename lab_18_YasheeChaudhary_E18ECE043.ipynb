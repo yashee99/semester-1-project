{
 "cells": [
  {
   "cell_type": "markdown",
   "metadata": {},
   "source": [
    "# Name :"
   ]
  },
  {
   "cell_type": "markdown",
   "metadata": {},
   "source": [
    "# Enrollment No. :"
   ]
  },
  {
   "cell_type": "markdown",
   "metadata": {},
   "source": [
    "# Lab on : Object Oriented Programming"
   ]
  },
  {
   "cell_type": "markdown",
   "metadata": {},
   "source": [
    "### Creating class"
   ]
  },
  {
   "cell_type": "code",
   "execution_count": 20,
   "metadata": {
    "scrolled": true
   },
   "outputs": [
    {
     "name": "stdout",
     "output_type": "stream",
     "text": [
      "<__main__.Employee object at 0x000001EB56ADF908>\n"
     ]
    }
   ],
   "source": [
    "class Employee:  #Define a class\n",
    "     pass  #body of class may contain attribute, methods, statements\n",
    "e1 = Employee()   ##creating object or instance of a class\n",
    "print(e1)  #printing e1 will show the addrees of memory where object is stored"
   ]
  },
  {
   "cell_type": "markdown",
   "metadata": {},
   "source": [
    "### 1 Write a program to create a \"Demo\" class and print message \"Introdution of Object Oriented Programming Concept\" and print the address of created object."
   ]
  },
  {
   "cell_type": "code",
   "execution_count": 8,
   "metadata": {},
   "outputs": [
    {
     "name": "stdout",
     "output_type": "stream",
     "text": [
      "in <__main__.Demo object at 0x000001EB56A40C88>\n"
     ]
    }
   ],
   "source": [
    "class Demo:\n",
    "    pass\n",
    "d = Demo()   \n",
    "print('in',d)"
   ]
  },
  {
   "cell_type": "markdown",
   "metadata": {},
   "source": [
    "### Instance attribute and  __init__() Function"
   ]
  },
  {
   "cell_type": "markdown",
   "metadata": {},
   "source": [
    "- Instance attributes are object-specific attributes defined as parameters to the __init__ method. \n",
    "- Each object can has different values for themselves.\n",
    "- All classes have a function called __init__(), which is always executed when the class is being initiated.\n",
    "- Use the __init__() function to assign values to object properties, or other operations that are necessary to do when the object is being created\n",
    "- It is like constructor which is used to initialize the instance variable of a class"
   ]
  },
  {
   "cell_type": "code",
   "execution_count": 6,
   "metadata": {},
   "outputs": [
    {
     "name": "stdout",
     "output_type": "stream",
     "text": [
      "Veer 25\n"
     ]
    }
   ],
   "source": [
    "class Employee:\n",
    "    def __init__(self, name, age):\n",
    "        self._name = name\n",
    "        self._age = age\n",
    "    \n",
    "    def access_detail(self):\n",
    "        print(self._name,self._age)\n",
    "        \n",
    "e1 = Employee(\"Veer\", 25)\n",
    "e1.access_detail()"
   ]
  },
  {
   "cell_type": "markdown",
   "metadata": {},
   "source": [
    "### 2 Write a program to create class \"Person\" with name and age attributes and show method to show the details. Create three objects of this class and show their details."
   ]
  },
  {
   "cell_type": "code",
   "execution_count": 7,
   "metadata": {
    "scrolled": true
   },
   "outputs": [
    {
     "name": "stdout",
     "output_type": "stream",
     "text": [
      "Veer 25\n",
      "Priyanka 18\n",
      "Priya 18\n"
     ]
    }
   ],
   "source": [
    "#write your code here\n",
    "class Person:\n",
    "    def __init__(self, name, age):\n",
    "        self._name = name\n",
    "        self._age = age\n",
    "    \n",
    "    def access_detail(self):\n",
    "        print(self._name,self._age)\n",
    "        \n",
    "e1 = Person(\"Veer\", 25)\n",
    "e1.access_detail()\n",
    "e2 = Person(\"Priyanka\",18)\n",
    "e2.access_detail()\n",
    "e3 = Person(\"Priya\",18)\n",
    "e3.access_detail()"
   ]
  },
  {
   "cell_type": "markdown",
   "metadata": {},
   "source": [
    "#### 3 Write a program for following:\n",
    "- Create a class Book with title and author attribute and bookinfo method that shows the details of book.\n",
    "- create three object for three book's detail and show their details "
   ]
  },
  {
   "cell_type": "code",
   "execution_count": 10,
   "metadata": {
    "scrolled": true
   },
   "outputs": [
    {
     "name": "stdout",
     "output_type": "stream",
     "text": [
      "Tom Jones Henry Fielding\n",
      "Pride and Prejudice Jane Austen\n",
      "Madame Bovary Gustave Flaubert\n"
     ]
    }
   ],
   "source": [
    "#write your code here\n",
    "#write your code here\n",
    "class Book:\n",
    "    def __init__(self, title, author):\n",
    "        self._title = title\n",
    "        self._author = author\n",
    "    \n",
    "    def bookinfo(self):\n",
    "        print(self._title,self._author)\n",
    "        \n",
    "e1 = Book(\"Tom Jones\",\"Henry Fielding\")\n",
    "e1.bookinfo()\n",
    "e2 = Book(\"Pride and Prejudice\",\"Jane Austen\")\n",
    "e2.bookinfo()\n",
    "e3 = Book(\"Madame Bovary\",\"Gustave Flaubert\")\n",
    "e3.bookinfo()\n"
   ]
  },
  {
   "cell_type": "markdown",
   "metadata": {},
   "source": [
    "### Creating class with methods\n",
    "- self-parameter is used in the implementation of method of a class.\n",
    "- self-parameter is not used when we call that method\n",
    "- self-parameter references the object of itself\n",
    "- self is used to access the class variable of current object within the class method\n",
    "- self is used within the method to call another method of same class"
   ]
  },
  {
   "cell_type": "code",
   "execution_count": 11,
   "metadata": {},
   "outputs": [
    {
     "name": "stdout",
     "output_type": "stream",
     "text": [
      "Priyanka\n",
      "20\n",
      "Rohan\n",
      "20\n",
      "Rohan\n",
      "25\n"
     ]
    }
   ],
   "source": [
    "class Employee:\n",
    "    def __init__(self,name,age):\n",
    "        self._name=name\n",
    "        self._age=age\n",
    "    def access_detail(self):\n",
    "        print(self._name)\n",
    "        print(self._age)\n",
    "    \n",
    "    def change_name(self, new_name): # note that the first argument is self\n",
    "        self._name = new_name # access the class attribute with the self keyword\n",
    "        self.access_detail()  # access the another method of class with the self keyword\n",
    "    \n",
    "    def change_age(self, new_age): \n",
    "        self._age = new_age \n",
    "        self.access_detail()\n",
    "\n",
    "e1=Employee(\"Priyanka\",20)  \n",
    "e1.access_detail()\n",
    "e1.change_name(\"Rohan\")\n",
    "e1.change_age(25)\n"
   ]
  },
  {
   "cell_type": "markdown",
   "metadata": {},
   "source": [
    "### 4 Write a program to do following:-\n",
    "  - Create a class \"Rectangle\"\n",
    "  - Class has attributes: \"length\" and \"width\"\n",
    "  - Class has method \"calculate_area\" with parameters length and width and returns area of rectangle\n",
    "  - Create one object of class\n",
    "  - Display the values of length and width\n",
    "  - Display the area of rectangle\n",
    "  - change the values of length and width of that object\n",
    "  - Again Display the values of length and width\n",
    "  - Again Display the area of rectangle"
   ]
  },
  {
   "cell_type": "code",
   "execution_count": 19,
   "metadata": {},
   "outputs": [
    {
     "name": "stdout",
     "output_type": "stream",
     "text": [
      "Length: 30\n",
      "Width: 20\n",
      "Area: 600\n",
      "Length: 40\n",
      "Width: 20\n",
      "Area: 800\n",
      "Length: 40\n",
      "Width: 25\n",
      "Area: 1000\n"
     ]
    }
   ],
   "source": [
    "class Rectangle:\n",
    "    def __init__(self,length,width):\n",
    "        self._length=length\n",
    "        self._width=width\n",
    "    def calculate_area(self):\n",
    "        print(\"Length:\",self._length)\n",
    "        print(\"Width:\",self._width)\n",
    "        return(self._length*self._width)\n",
    "\n",
    "e1=Rectangle(30,20)  \n",
    "print(\"Area:\",e1.calculate_area())\n",
    "e1._length=40\n",
    "print(\"Area:\",e1.calculate_area())\n",
    "e1._width=25\n",
    "print(\"Area:\",e1.calculate_area())"
   ]
  },
  {
   "cell_type": "code",
   "execution_count": 17,
   "metadata": {},
   "outputs": [
    {
     "name": "stdout",
     "output_type": "stream",
     "text": [
      "Length: 30\n",
      "Width: 20\n",
      "Area: 600\n",
      "Length: 40\n",
      "Width: 20\n",
      "Area: 800\n",
      "Length: 40\n",
      "Width: 25\n",
      "Area: 1000\n"
     ]
    }
   ],
   "source": [
    "#write your code here\n",
    "class Rectangle:\n",
    "    def __init__(self,length,width):\n",
    "        self._length=length\n",
    "        self._width=width\n",
    "    def calculate_area(self):\n",
    "        print(\"Length:\",self._length)\n",
    "        print(\"Width:\",self._width)\n",
    "        print(\"Area:\",self._length*self._width)\n",
    "    \n",
    "    def change_length(self, new_length):\n",
    "        self._length = new_length \n",
    "        self.calculate_area()\n",
    "    \n",
    "    def change_width(self, new_width): \n",
    "        self._width = new_width\n",
    "        self.calculate_area()\n",
    "\n",
    "e1=Rectangle(30,20)  \n",
    "e1.calculate_area()\n",
    "e1.change_length(40)\n",
    "e1.change_width(25)\n"
   ]
  },
  {
   "cell_type": "markdown",
   "metadata": {},
   "source": [
    "### 5 Write a program to cleate two empty classes A and B and create their objects then Check the membership of an object using isinstanceof() method.\n",
    "isinstance(object_name,class_name)"
   ]
  },
  {
   "cell_type": "code",
   "execution_count": 23,
   "metadata": {},
   "outputs": [
    {
     "name": "stdout",
     "output_type": "stream",
     "text": [
      "True\n",
      "True\n",
      "False\n"
     ]
    }
   ],
   "source": [
    "#write your code here\n",
    "class A:\n",
    "    pass\n",
    "class B:\n",
    "    pass\n",
    "a=A()\n",
    "b=B()\n",
    "print(isinstance(a,A))\n",
    "print(isinstance(b,B))\n",
    "print(isinstance(a,B))"
   ]
  },
  {
   "cell_type": "markdown",
   "metadata": {},
   "source": [
    "### The __del__() function"
   ]
  },
  {
   "cell_type": "markdown",
   "metadata": {},
   "source": [
    "- As __init__() function is used to initialize the values of variables. __del__() is used to destroy the class variable\n",
    "- This function is executed only if all the references to an object have been removed\n",
    "- It is like destructor and is executed once per object"
   ]
  },
  {
   "cell_type": "code",
   "execution_count": 31,
   "metadata": {},
   "outputs": [
    {
     "name": "stdout",
     "output_type": "stream",
     "text": [
      "Constructor of class\n",
      "Destructor of class\n"
     ]
    }
   ],
   "source": [
    "class Demo:\n",
    "    def __init__(self):\n",
    "        print(\"Constructor of class\")\n",
    "    def __del__(self):\n",
    "        print(\"Destructor of class\")\n",
    "        \n",
    "d1=Demo()\n",
    "d2=d1\n",
    "d3=d1\n",
    "del d1\n",
    "del d2\n",
    "\n",
    "\n"
   ]
  },
  {
   "cell_type": "markdown",
   "metadata": {},
   "source": [
    "### Accessibility"
   ]
  },
  {
   "cell_type": "markdown",
   "metadata": {},
   "source": [
    "- By default all attributes and methods are public.\n",
    "- to define private member of a class we add two __ in front of the attribute and method name."
   ]
  },
  {
   "cell_type": "code",
   "execution_count": 32,
   "metadata": {
    "scrolled": true
   },
   "outputs": [
    {
     "name": "stdout",
     "output_type": "stream",
     "text": [
      "Surbhi 17837\n",
      "Surbhi\n"
     ]
    },
    {
     "ename": "AttributeError",
     "evalue": "'Info' object has no attribute '__acc_no'",
     "output_type": "error",
     "traceback": [
      "\u001b[1;31m---------------------------------------------------------------------------\u001b[0m",
      "\u001b[1;31mAttributeError\u001b[0m                            Traceback (most recent call last)",
      "\u001b[1;32m<ipython-input-32-67565f31104d>\u001b[0m in \u001b[0;36m<module>\u001b[1;34m()\u001b[0m\n\u001b[0;32m     11\u001b[0m \u001b[0moi\u001b[0m\u001b[1;33m.\u001b[0m\u001b[0mshow\u001b[0m\u001b[1;33m(\u001b[0m\u001b[1;33m)\u001b[0m\u001b[1;33m\u001b[0m\u001b[0m\n\u001b[0;32m     12\u001b[0m \u001b[0mprint\u001b[0m\u001b[1;33m(\u001b[0m\u001b[0moi\u001b[0m\u001b[1;33m.\u001b[0m\u001b[0m_name\u001b[0m\u001b[1;33m)\u001b[0m    \u001b[1;31m#public member so it is accessiable\u001b[0m\u001b[1;33m\u001b[0m\u001b[0m\n\u001b[1;32m---> 13\u001b[1;33m \u001b[0mprint\u001b[0m\u001b[1;33m(\u001b[0m\u001b[0moi\u001b[0m\u001b[1;33m.\u001b[0m\u001b[0m__acc_no\u001b[0m\u001b[1;33m)\u001b[0m \u001b[1;31m#will show error bcz it is private\u001b[0m\u001b[1;33m\u001b[0m\u001b[0m\n\u001b[0m",
      "\u001b[1;31mAttributeError\u001b[0m: 'Info' object has no attribute '__acc_no'"
     ]
    }
   ],
   "source": [
    "class Info:\n",
    "    def __init__(self, name, acc_no):\n",
    "        self._name=name      #public\n",
    "        self.__acc_no=acc_no   #private attribute of class\n",
    "    def show(self):\n",
    "        print(self._name,self.__acc_no) #within class you can access both public and private members of Info class\n",
    "        \n",
    "name=\"Surbhi\"     \n",
    "acc_no=17837\n",
    "oi=Info(name,acc_no)\n",
    "oi.show()\n",
    "print(oi._name)    #public member so it is accessiable\n",
    "print(oi.__acc_no) #will show error bcz it is private"
   ]
  },
  {
   "cell_type": "code",
   "execution_count": 33,
   "metadata": {
    "scrolled": true
   },
   "outputs": [
    {
     "name": "stdout",
     "output_type": "stream",
     "text": [
      "Surbhi 17837\n",
      "Dr. Shivani\n"
     ]
    },
    {
     "ename": "AttributeError",
     "evalue": "'Info' object has no attribute '_B__acc_no'",
     "output_type": "error",
     "traceback": [
      "\u001b[1;31m---------------------------------------------------------------------------\u001b[0m",
      "\u001b[1;31mAttributeError\u001b[0m                            Traceback (most recent call last)",
      "\u001b[1;32m<ipython-input-33-aef8ec0c6cb6>\u001b[0m in \u001b[0;36m<module>\u001b[1;34m()\u001b[0m\n\u001b[0;32m     17\u001b[0m \u001b[0moi\u001b[0m\u001b[1;33m.\u001b[0m\u001b[0mshow\u001b[0m\u001b[1;33m(\u001b[0m\u001b[1;33m)\u001b[0m\u001b[1;33m\u001b[0m\u001b[0m\n\u001b[0;32m     18\u001b[0m \u001b[0mob\u001b[0m\u001b[1;33m=\u001b[0m\u001b[0mB\u001b[0m\u001b[1;33m(\u001b[0m\u001b[1;33m)\u001b[0m\u001b[1;33m\u001b[0m\u001b[0m\n\u001b[1;32m---> 19\u001b[1;33m \u001b[0mob\u001b[0m\u001b[1;33m.\u001b[0m\u001b[0mdisplay\u001b[0m\u001b[1;33m(\u001b[0m\u001b[1;33m)\u001b[0m\u001b[1;33m\u001b[0m\u001b[0m\n\u001b[0m",
      "\u001b[1;32m<ipython-input-33-aef8ec0c6cb6>\u001b[0m in \u001b[0;36mdisplay\u001b[1;34m(self)\u001b[0m\n\u001b[0;32m     10\u001b[0m         \u001b[0mn\u001b[0m\u001b[1;33m=\u001b[0m\u001b[0mInfo\u001b[0m\u001b[1;33m(\u001b[0m\u001b[1;34m'Dr. Shivani'\u001b[0m\u001b[1;33m,\u001b[0m\u001b[1;34m'18000'\u001b[0m\u001b[1;33m)\u001b[0m\u001b[1;33m\u001b[0m\u001b[0m\n\u001b[0;32m     11\u001b[0m         \u001b[0mprint\u001b[0m\u001b[1;33m(\u001b[0m\u001b[0mn\u001b[0m\u001b[1;33m.\u001b[0m\u001b[0m_name\u001b[0m\u001b[1;33m)\u001b[0m\u001b[1;33m\u001b[0m\u001b[0m\n\u001b[1;32m---> 12\u001b[1;33m         \u001b[0mprint\u001b[0m\u001b[1;33m(\u001b[0m\u001b[0mn\u001b[0m\u001b[1;33m.\u001b[0m\u001b[0m__acc_no\u001b[0m\u001b[1;33m)\u001b[0m\u001b[1;31m#show error bcz private member of a class also not ccessiable in another class\u001b[0m\u001b[1;33m\u001b[0m\u001b[0m\n\u001b[0m\u001b[0;32m     13\u001b[0m \u001b[1;33m\u001b[0m\u001b[0m\n\u001b[0;32m     14\u001b[0m \u001b[0mname\u001b[0m\u001b[1;33m=\u001b[0m\u001b[1;34m\"Surbhi\"\u001b[0m\u001b[1;33m\u001b[0m\u001b[0m\n",
      "\u001b[1;31mAttributeError\u001b[0m: 'Info' object has no attribute '_B__acc_no'"
     ]
    }
   ],
   "source": [
    "class Info:\n",
    "    def __init__(self, name, acc_no):\n",
    "        self._name=name      #public\n",
    "        self.__acc_no=acc_no   #private attribute of class\n",
    "    def show(self):\n",
    "        print(self._name,self.__acc_no) #within class you can access both public and private members of Info class\n",
    "\n",
    "class B:\n",
    "    def display(self):\n",
    "        n=Info('Dr. Shivani','18000')\n",
    "        print(n._name)\n",
    "        print(n.__acc_no)#show error bcz private member of a class also not ccessiable in another class\n",
    "                \n",
    "name=\"Surbhi\"    \n",
    "acc_no=17837    \n",
    "oi=Info(name,acc_no)\n",
    "oi.show()\n",
    "ob=B()\n",
    "ob.display()"
   ]
  },
  {
   "cell_type": "markdown",
   "metadata": {},
   "source": [
    "### 6 Write a program for following:\n",
    "- create a class \"Employee\" that has attributes name, id, post, passward and account_number. Keep pass and account no private.\n",
    "- Define method \"show_public\" that shows public information like name, post and id\n",
    "- Define method \"show_private\" that shows private information like passward and account_no\n",
    "- Take details from user, create object of employee and show the details using defined functions"
   ]
  },
  {
   "cell_type": "code",
   "execution_count": 35,
   "metadata": {
    "scrolled": true
   },
   "outputs": [
    {
     "name": "stdout",
     "output_type": "stream",
     "text": [
      "Enter your name:Priyanka\n",
      "Enter your Id:E18CSE134\n",
      "Enter your password:piku@rama\n",
      "Enter your post:Manager\n",
      "Enter account number:rama1234\n",
      "Priyanka,E18CSE134,Manager\n",
      "piku@rama,rama1234\n"
     ]
    }
   ],
   "source": [
    "#write your code here\n",
    "class Employee:\n",
    "    def __init__(self, name,Id,post,password,acc_no):\n",
    "        self._name=name\n",
    "        self._Id=Id\n",
    "        self._post=post\n",
    "        self.__password=password\n",
    "        self.__acc_no=acc_no\n",
    "    def show_public(self):\n",
    "        print(self._name,self._Id,self._post,sep=\",\") \n",
    "    def show_private(self):\n",
    "        print(self.__password,self.__acc_no,sep=\",\") \n",
    "\n",
    "                \n",
    "name=input(\"Enter your name:\") \n",
    "Id=input(\"Enter your Id:\") \n",
    "password=input(\"Enter your password:\") \n",
    "post=input(\"Enter your post:\") \n",
    "acc_no=input(\"Enter account number:\")   \n",
    "e=Employee(name,Id,post,password,acc_no)\n",
    "e.show_public()\n",
    "e.show_private()"
   ]
  },
  {
   "cell_type": "markdown",
   "metadata": {},
   "source": [
    "### 7 Write a program for same as above question but takes details of two or more employees store their objects in list and show their details in the end"
   ]
  },
  {
   "cell_type": "code",
   "execution_count": 37,
   "metadata": {},
   "outputs": [
    {
     "name": "stdout",
     "output_type": "stream",
     "text": [
      "Enter your name:Priyanka\n",
      "Enter your Id:E18CSE134\n",
      "Enter your password:piku@rama\n",
      "Enter your post:Manager\n",
      "Enter account number:rama1234\n",
      "Enter your name:Priya\n",
      "Enter your Id:E18CSE133\n",
      "Enter your password:priya123\n",
      "Enter your post:secretary\n",
      "Enter account number:priyad\n",
      "Priyanka,E18CSE134,Manager\n",
      "piku@rama,rama1234\n",
      "\n",
      "Priya,E18CSE133,secretary\n",
      "priya123,priyad\n",
      "\n"
     ]
    }
   ],
   "source": [
    "#write your code here\n",
    "class Employee:\n",
    "    def __init__(self, name,Id,post,password,acc_no):\n",
    "        self._name=name\n",
    "        self._Id=Id\n",
    "        self._post=post\n",
    "        self.__password=password\n",
    "        self.__acc_no=acc_no\n",
    "    def show_public(self):\n",
    "        print(self._name,self._Id,self._post,sep=\",\") \n",
    "    def show_private(self):\n",
    "        print(self.__password,self.__acc_no,sep=\",\") \n",
    "l=[]\n",
    "for i in range(2):\n",
    "\n",
    "    name=input(\"Enter your name:\") \n",
    "    Id=input(\"Enter your Id:\") \n",
    "    password=input(\"Enter your password:\") \n",
    "    post=input(\"Enter your post:\") \n",
    "    acc_no=input(\"Enter account number:\")   \n",
    "    k=Employee(name,Id,post,password,acc_no)\n",
    "    l.append(k)\n",
    "    \n",
    "for i in l:\n",
    "    i.show_public()\n",
    "    i.show_private()\n",
    "    print()"
   ]
  },
  {
   "cell_type": "markdown",
   "metadata": {},
   "source": [
    "### 8 Write a program for following:\n",
    "- Create a class \"Credit_card\" that has id, private attributes( card_no and PIN ), a method \"show\" to show the card details\n",
    "- Create a class \"Person\" that has attribute id, name and an object of credit card class and a method \"show\" to show id and name information.\n",
    "- crerate object of person and show complete details"
   ]
  },
  {
   "cell_type": "code",
   "execution_count": 45,
   "metadata": {},
   "outputs": [
    {
     "name": "stdout",
     "output_type": "stream",
     "text": [
      "Enter your name:Priyanka\n",
      "Enter your Id:E18CSE134\n",
      "Enter your card number:Axis134\n",
      "Enter your PIN:4568689\n",
      "Name: Priyanka\n",
      "ID: E18CSE134\n",
      "Card No.: Axis134\n",
      "PIN: 4568689\n"
     ]
    }
   ],
   "source": [
    "#write your code here\n",
    "class Credit_card:\n",
    "    def __init__(self,Id,card_no,PIN):\n",
    "        self._Id=Id\n",
    "        self.__card_no=card_no\n",
    "        self.__PIN=PIN\n",
    "    def show(self):\n",
    "        print(\"Card No.:\",self.__card_no)\n",
    "        print(\"PIN:\",self.__PIN) \n",
    "\n",
    "class Person:\n",
    "    def __init__(self,Id,name,card_no,PIN):\n",
    "        self._Id=Id\n",
    "        self._name=name\n",
    "        self._credit=Credit_card(Id,card_no,PIN)\n",
    "    def show(self):\n",
    "        print(\"Name:\",self._name)\n",
    "        print(\"ID:\",self._Id)\n",
    "    \n",
    "                \n",
    "name=input(\"Enter your name:\") \n",
    "Id=input(\"Enter your Id:\") \n",
    "card_no=input(\"Enter your card number:\") \n",
    "PIN=input(\"Enter your PIN:\")   \n",
    "e=Person(Id,name,card_no,PIN)\n",
    "e.show()\n",
    "e._credit.show()"
   ]
  },
  {
   "cell_type": "markdown",
   "metadata": {},
   "source": [
    "## Optional"
   ]
  },
  {
   "cell_type": "markdown",
   "metadata": {},
   "source": [
    "### 9 Write a program for following:\n",
    "- Create a Time class and initialize it with hours and minutes.\n",
    "- Make a method addTime which should take two time object and add them. E.g.- (2 hour and 50 min)+(1 hr and 20 min) is (4 hr and 10 min)\n",
    "- Make a method displayTime which should print the time.\n",
    "- Make a method DisplayMinute which should display the total minutes in the Time. E.g.- (1 hr 2 min) should display 62 minute."
   ]
  },
  {
   "cell_type": "code",
   "execution_count": 56,
   "metadata": {},
   "outputs": [
    {
     "ename": "NameError",
     "evalue": "name 't3' is not defined",
     "output_type": "error",
     "traceback": [
      "\u001b[1;31m---------------------------------------------------------------------------\u001b[0m",
      "\u001b[1;31mNameError\u001b[0m                                 Traceback (most recent call last)",
      "\u001b[1;32m<ipython-input-56-78c9e8f43fad>\u001b[0m in \u001b[0;36m<module>\u001b[1;34m()\u001b[0m\n\u001b[0;32m     23\u001b[0m \u001b[0mt1\u001b[0m\u001b[1;33m=\u001b[0m\u001b[0mTime\u001b[0m\u001b[1;33m(\u001b[0m\u001b[1;36m1\u001b[0m\u001b[1;33m,\u001b[0m\u001b[1;36m20\u001b[0m\u001b[1;33m)\u001b[0m\u001b[1;33m\u001b[0m\u001b[0m\n\u001b[0;32m     24\u001b[0m \u001b[0mt2\u001b[0m\u001b[1;33m=\u001b[0m\u001b[0mTime\u001b[0m\u001b[1;33m(\u001b[0m\u001b[1;36m2\u001b[0m\u001b[1;33m,\u001b[0m\u001b[1;36m50\u001b[0m\u001b[1;33m)\u001b[0m\u001b[1;33m\u001b[0m\u001b[0m\n\u001b[1;32m---> 25\u001b[1;33m \u001b[0mt\u001b[0m\u001b[1;33m=\u001b[0m\u001b[0mTime\u001b[0m\u001b[1;33m.\u001b[0m\u001b[0mAddTime\u001b[0m\u001b[1;33m(\u001b[0m\u001b[0mt1\u001b[0m\u001b[1;33m,\u001b[0m\u001b[0mt2\u001b[0m\u001b[1;33m)\u001b[0m\u001b[1;33m\u001b[0m\u001b[0m\n\u001b[0m\u001b[0;32m     26\u001b[0m \u001b[0mt\u001b[0m\u001b[1;33m.\u001b[0m\u001b[0mdisplaytime\u001b[0m\u001b[1;33m(\u001b[0m\u001b[1;33m)\u001b[0m\u001b[1;33m\u001b[0m\u001b[0m\n\u001b[0;32m     27\u001b[0m \u001b[0mt\u001b[0m\u001b[1;33m.\u001b[0m\u001b[0mdisplayminutes\u001b[0m\u001b[1;33m(\u001b[0m\u001b[1;33m)\u001b[0m\u001b[1;33m\u001b[0m\u001b[0m\n",
      "\u001b[1;32m<ipython-input-56-78c9e8f43fad>\u001b[0m in \u001b[0;36mAddTime\u001b[1;34m(t1, t2)\u001b[0m\n\u001b[0;32m      7\u001b[0m     \u001b[1;32mdef\u001b[0m \u001b[0mAddTime\u001b[0m\u001b[1;33m(\u001b[0m\u001b[0mt1\u001b[0m\u001b[1;33m,\u001b[0m\u001b[0mt2\u001b[0m\u001b[1;33m)\u001b[0m\u001b[1;33m:\u001b[0m\u001b[1;33m\u001b[0m\u001b[0m\n\u001b[0;32m      8\u001b[0m \u001b[1;33m\u001b[0m\u001b[0m\n\u001b[1;32m----> 9\u001b[1;33m         \u001b[0mt3\u001b[0m\u001b[1;33m.\u001b[0m\u001b[0m_hours\u001b[0m\u001b[1;33m=\u001b[0m\u001b[0mt1\u001b[0m\u001b[1;33m.\u001b[0m\u001b[0m_hours\u001b[0m\u001b[1;33m+\u001b[0m\u001b[0mt2\u001b[0m\u001b[1;33m.\u001b[0m\u001b[0m_hours\u001b[0m\u001b[1;33m\u001b[0m\u001b[0m\n\u001b[0m\u001b[0;32m     10\u001b[0m         \u001b[0mt3\u001b[0m\u001b[1;33m.\u001b[0m\u001b[0m_minutes\u001b[0m\u001b[1;33m=\u001b[0m\u001b[0mt1\u001b[0m\u001b[1;33m.\u001b[0m\u001b[0mminutes\u001b[0m\u001b[1;33m+\u001b[0m\u001b[0mt2\u001b[0m\u001b[1;33m.\u001b[0m\u001b[0mminutes\u001b[0m\u001b[1;33m\u001b[0m\u001b[0m\n\u001b[0;32m     11\u001b[0m         \u001b[1;32mif\u001b[0m \u001b[0mt3\u001b[0m\u001b[1;33m.\u001b[0m\u001b[0mminutes\u001b[0m\u001b[1;33m>\u001b[0m\u001b[1;36m60\u001b[0m\u001b[1;33m:\u001b[0m\u001b[1;33m\u001b[0m\u001b[0m\n",
      "\u001b[1;31mNameError\u001b[0m: name 't3' is not defined"
     ]
    }
   ],
   "source": [
    "#To be completed\n",
    "class Time:\n",
    "    def __init__(self,hours,minutes):\n",
    "        self._hours=hours\n",
    "        self._minutes=minutes\n",
    "    \n",
    "    def AddTime(t1,t2):\n",
    "\n",
    "        hours=t1._hours+t2._hours\n",
    "        minutes=t1.minutes+t2.minutes\n",
    "        if t3.minutes>60:\n",
    "            t3.hours=t3.hours+1\n",
    "            t3.minutes=t3.minutes-60\n",
    "        \n",
    "        return t3\n",
    "\n",
    "    \n",
    "    def displayTime(self, new_length):\n",
    "        print(self._hours,\"hours\",self._minutes,\"minutes\")\n",
    "    \n",
    "    def DisplayMinute(self, new_width): \n",
    "        print(\"Minutes:\",self.hours*60+self.minutes,\"minutes\")\n",
    "\n",
    "t1=Time(1,20)\n",
    "t2=Time(2,50)\n",
    "t=Time.AddTime(t1,t2)\n",
    "t.displaytime()\n",
    "t.displayminutes()\n",
    "\n",
    "\n",
    "\n",
    "\n"
   ]
  },
  {
   "cell_type": "markdown",
   "metadata": {},
   "source": [
    "### 10 Write a program for following:\n",
    "- Create a class \"Die\" that has attribut \"value\" and method roll that sets \"value\" between 1 and 6 (both inclusive) and returns this value. \n",
    "- Create class \"Player\" with name attribute and it has two dies (attributes) and play method to roll the dies and calculate sum of both dies.\n",
    "- Create two players. let them play and decide who win"
   ]
  },
  {
   "cell_type": "code",
   "execution_count": null,
   "metadata": {},
   "outputs": [],
   "source": [
    "#write your code here"
   ]
  }
 ],
 "metadata": {
  "kernelspec": {
   "display_name": "Python 3",
   "language": "python",
   "name": "python3"
  },
  "language_info": {
   "codemirror_mode": {
    "name": "ipython",
    "version": 3
   },
   "file_extension": ".py",
   "mimetype": "text/x-python",
   "name": "python",
   "nbconvert_exporter": "python",
   "pygments_lexer": "ipython3",
   "version": "3.6.5"
  }
 },
 "nbformat": 4,
 "nbformat_minor": 2
}
